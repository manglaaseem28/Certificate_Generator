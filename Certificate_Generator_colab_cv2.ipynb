{
 "cells": [
  {
   "cell_type": "markdown",
   "metadata": {
    "id": "Z_kBH9VQkK6N"
   },
   "source": [
    "### Import Libraries"
   ]
  },
  {
   "cell_type": "code",
   "execution_count": null,
   "metadata": {
    "colab": {
     "base_uri": "https://localhost:8080/",
     "height": 202
    },
    "id": "0Ll4Ma1ykK6O",
    "outputId": "6c9eb87d-f8ed-4df2-d324-3a878d7b037f"
   },
   "outputs": [
    {
     "name": "stdout",
     "output_type": "stream",
     "text": [
      "Collecting img2pdf\n",
      "\u001b[?25l  Downloading https://files.pythonhosted.org/packages/65/12/6ee1a77614df6decefd88f781cf95b73acf93f0cc9eb03bd5042d116b85d/img2pdf-0.3.6.tar.gz (91kB)\n",
      "\r",
      "\u001b[K     |███▋                            | 10kB 22.8MB/s eta 0:00:01\r",
      "\u001b[K     |███████▏                        | 20kB 5.9MB/s eta 0:00:01\r",
      "\u001b[K     |██████████▉                     | 30kB 7.1MB/s eta 0:00:01\r",
      "\u001b[K     |██████████████▍                 | 40kB 7.6MB/s eta 0:00:01\r",
      "\u001b[K     |██████████████████              | 51kB 6.6MB/s eta 0:00:01\r",
      "\u001b[K     |█████████████████████▋          | 61kB 6.6MB/s eta 0:00:01\r",
      "\u001b[K     |█████████████████████████▏      | 71kB 7.3MB/s eta 0:00:01\r",
      "\u001b[K     |████████████████████████████▉   | 81kB 7.8MB/s eta 0:00:01\r",
      "\u001b[K     |████████████████████████████████| 92kB 4.6MB/s \n",
      "\u001b[?25hRequirement already satisfied: Pillow in /usr/local/lib/python3.6/dist-packages (from img2pdf) (7.0.0)\n",
      "Building wheels for collected packages: img2pdf\n",
      "  Building wheel for img2pdf (setup.py) ... \u001b[?25l\u001b[?25hdone\n",
      "  Created wheel for img2pdf: filename=img2pdf-0.3.6-cp36-none-any.whl size=39048 sha256=c51d5595d67500c63931e5b13cb3689fc08b42576c64df2e73df58e91af2618d\n",
      "  Stored in directory: /root/.cache/pip/wheels/8c/1c/68/d8764ed7988b469446ed181a656166170ec45b6b1f974f0236\n",
      "Successfully built img2pdf\n",
      "Installing collected packages: img2pdf\n",
      "Successfully installed img2pdf-0.3.6\n"
     ]
    }
   ],
   "source": [
    "\"\"\" Uncomment and run this cell if you donot have these libraries \"\"\"\n",
    "\n",
    "# !pip install cv2\n",
    "# !pip install pandas\n",
    "# !pip install numpy\n",
    "# !pip install img2pdf"
   ]
  },
  {
   "cell_type": "code",
   "execution_count": null,
   "metadata": {
    "id": "pr8Cl6AqkK6W"
   },
   "outputs": [],
   "source": [
    "import cv2\n",
    "import pandas as pd\n",
    "import numpy as np\n",
    "from PIL import Image\n",
    "import glob, os\n",
    "import img2pdf\n",
    "\n",
    "from google.colab import drive\n",
    "from google.colab import files\n",
    "import warnings\n",
    "warnings.filterwarnings('ignore')"
   ]
  },
  {
   "cell_type": "code",
   "execution_count": null,
   "metadata": {
    "colab": {
     "base_uri": "https://localhost:8080/",
     "height": 121
    },
    "id": "jnbAM9u5kPoh",
    "outputId": "68898300-a3e5-4284-9a0e-8b6b7959d71d"
   },
   "outputs": [
    {
     "name": "stdout",
     "output_type": "stream",
     "text": [
      "Go to this URL in a browser: https://accounts.google.com/o/oauth2/auth?client_id=947318989803-6bn6qk8qdgf4n4g3pfee6491hc0brc4i.apps.googleusercontent.com&redirect_uri=urn%3aietf%3awg%3aoauth%3a2.0%3aoob&response_type=code&scope=email%20https%3a%2f%2fwww.googleapis.com%2fauth%2fdocs.test%20https%3a%2f%2fwww.googleapis.com%2fauth%2fdrive%20https%3a%2f%2fwww.googleapis.com%2fauth%2fdrive.photos.readonly%20https%3a%2f%2fwww.googleapis.com%2fauth%2fpeopleapi.readonly\n",
      "\n",
      "Enter your authorization code:\n",
      "··········\n",
      "Mounted at /content/gdrive\n"
     ]
    }
   ],
   "source": [
    "drive.mount('/content/gdrive')"
   ]
  },
  {
   "cell_type": "code",
   "execution_count": null,
   "metadata": {
    "id": "GtD8yJfFkhJN"
   },
   "outputs": [],
   "source": [
    "path = 'gdrive/My Drive/Colab Notebooks'\n",
    "certi_data_path = 'gdrive/My Drive/Colab Notebooks/final_list_left/'\n",
    "certi_temp_path = 'gdrive/My Drive/Colab Notebooks/Certificates - NanoDev2020/'"
   ]
  },
  {
   "cell_type": "code",
   "execution_count": null,
   "metadata": {
    "colab": {
     "base_uri": "https://localhost:8080/",
     "height": 101
    },
    "id": "kyElo8YRnrTh",
    "outputId": "e4696da8-7df4-4c44-e25a-3d7787fd2c91"
   },
   "outputs": [
    {
     "name": "stdout",
     "output_type": "stream",
     "text": [
      "'organizers (1).xlsx'\n",
      " organziers\n",
      " participant_left_pics\n",
      "'speakers (1).xlsx'\n",
      "'to be send_certificate num_NanoDev2020-20200705 (6).xlsx'\n"
     ]
    }
   ],
   "source": [
    "!ls 'gdrive/My Drive/Colab Notebooks/final_list_left'"
   ]
  },
  {
   "cell_type": "markdown",
   "metadata": {
    "id": "hisSiXv5kK6b"
   },
   "source": [
    "### Read the Names/Content to be written on the certificate\n",
    "* The names should be in an excel or csv file for this code\n",
    "* If you have the data in any other file format, please use the required file reading syntax"
   ]
  },
  {
   "cell_type": "code",
   "execution_count": null,
   "metadata": {
    "colab": {
     "base_uri": "https://localhost:8080/",
     "height": 195
    },
    "id": "2vkzZxnSkK6c",
    "outputId": "c220e76c-cbe3-416c-c61e-7fae13b45c9e"
   },
   "outputs": [
    {
     "data": {
      "text/html": [
       "<div>\n",
       "<style scoped>\n",
       "    .dataframe tbody tr th:only-of-type {\n",
       "        vertical-align: middle;\n",
       "    }\n",
       "\n",
       "    .dataframe tbody tr th {\n",
       "        vertical-align: top;\n",
       "    }\n",
       "\n",
       "    .dataframe thead th {\n",
       "        text-align: right;\n",
       "    }\n",
       "</style>\n",
       "<table border=\"1\" class=\"dataframe\">\n",
       "  <thead>\n",
       "    <tr style=\"text-align: right;\">\n",
       "      <th></th>\n",
       "      <th>Certificate no.</th>\n",
       "      <th>Full Name</th>\n",
       "      <th>Title</th>\n",
       "    </tr>\n",
       "  </thead>\n",
       "  <tbody>\n",
       "    <tr>\n",
       "      <th>0</th>\n",
       "      <td>20313</td>\n",
       "      <td>H. S. Jatana</td>\n",
       "      <td>Challenges in Development of Photodetectors</td>\n",
       "    </tr>\n",
       "    <tr>\n",
       "      <th>1</th>\n",
       "      <td>20314</td>\n",
       "      <td>Yogesh Chauhan</td>\n",
       "      <td>Physics and Modeling of Nano-Transistors</td>\n",
       "    </tr>\n",
       "    <tr>\n",
       "      <th>2</th>\n",
       "      <td>20315</td>\n",
       "      <td>D. S. Rawal</td>\n",
       "      <td>GaN HEMT Device Fabrication Technology</td>\n",
       "    </tr>\n",
       "    <tr>\n",
       "      <th>3</th>\n",
       "      <td>20316</td>\n",
       "      <td>Amit Singh</td>\n",
       "      <td>Introduction to Silicon High Voltage technology</td>\n",
       "    </tr>\n",
       "    <tr>\n",
       "      <th>4</th>\n",
       "      <td>20317</td>\n",
       "      <td>Santanu Mahaptra</td>\n",
       "      <td>Atom-to-Circuit Modeling Technique for 2D MOSFET</td>\n",
       "    </tr>\n",
       "  </tbody>\n",
       "</table>\n",
       "</div>"
      ],
      "text/plain": [
       "   Certificate no.  ...                                             Title\n",
       "0            20313  ...       Challenges in Development of Photodetectors\n",
       "1            20314  ...          Physics and Modeling of Nano-Transistors\n",
       "2            20315  ...            GaN HEMT Device Fabrication Technology\n",
       "3            20316  ...   Introduction to Silicon High Voltage technology\n",
       "4            20317  ...  Atom-to-Circuit Modeling Technique for 2D MOSFET\n",
       "\n",
       "[5 rows x 3 columns]"
      ]
     },
     "execution_count": 6,
     "metadata": {
      "tags": []
     },
     "output_type": "execute_result"
    }
   ],
   "source": [
    "\"\"\" Fill in the file path where you have the text to be written on the certificate \"\"\"\n",
    "text_file_path = certi_data_path + 'speakers (1).xlsx'\n",
    "certificate_text = pd.read_excel(text_file_path)\n",
    "\n",
    "\"\"\" Use this if you have csv file \"\"\"\n",
    "# certificate_text = pd.read_csv(text_file_path)\n",
    "certificate_text.head()"
   ]
  },
  {
   "cell_type": "code",
   "execution_count": null,
   "metadata": {
    "colab": {
     "base_uri": "https://localhost:8080/",
     "height": 34
    },
    "id": "i9QG81vXojXT",
    "outputId": "ba64ea8f-9137-49aa-a307-9c51568803fa"
   },
   "outputs": [
    {
     "data": {
      "text/plain": [
       "(16, 3)"
      ]
     },
     "execution_count": 7,
     "metadata": {
      "tags": []
     },
     "output_type": "execute_result"
    }
   ],
   "source": [
    "certificate_text.shape"
   ]
  },
  {
   "cell_type": "markdown",
   "metadata": {
    "id": "VzK-bvD-kK6e"
   },
   "source": [
    "* Find the appropriate column in the certificate_text dataframe and read the data out of it\n",
    "\n",
    "Here I present the examples of how to do that.\n",
    "\n",
    "1. If you have names in a single columns say Participants, then, <br>\n",
    "    names = np.array(certificate_text['Participants'].dropna()) <br>\n",
    "    \n",
    "    \n",
    "2. If you have names that are spread over different columns, then, <br>\n",
    "    names_1 = np.array(certificate_text['Name'].dropna()).tolist() <br>\n",
    "    names_2 = np.array(certificate_text['Name1'].dropna()).tolist() <br>\n",
    "    names_3 = np.array(certificate_text['Name2'].dropna()).tolist() <br>\n",
    "    names = names_1 + names_2 + names_3 <br>\n",
    "    \n",
    "    \n",
    "* Do this same for every text column you need on the certificate"
   ]
  },
  {
   "cell_type": "code",
   "execution_count": null,
   "metadata": {
    "colab": {
     "base_uri": "https://localhost:8080/",
     "height": 34
    },
    "id": "O8-imqcFkK6f",
    "outputId": "cacd8c4a-bba3-46a3-d341-3f38284d9828"
   },
   "outputs": [
    {
     "data": {
      "text/plain": [
       "(16, 16, 16)"
      ]
     },
     "execution_count": 8,
     "metadata": {
      "tags": []
     },
     "output_type": "execute_result"
    }
   ],
   "source": [
    "\"\"\" Change this according to the data you have \"\"\"\n",
    "names = np.array(certificate_text['Full Name'].dropna())\n",
    "certi_number = np.array(certificate_text['Certificate no.'].dropna())\n",
    "organization = np.array(certificate_text['Title'].dropna())\n",
    "len(names), len(certi_number), len(organization)"
   ]
  },
  {
   "cell_type": "code",
   "execution_count": null,
   "metadata": {
    "id": "A3oG7AtqkK6h",
    "scrolled": true
   },
   "outputs": [],
   "source": [
    "\"\"\" Convert all names to Uppercase \"\"\"\n",
    "names = [i.upper() for i in names]\n",
    "organization = [i.upper() for i in organization]\n",
    "certi_number = [int(i) for i in certi_number]"
   ]
  },
  {
   "cell_type": "code",
   "execution_count": null,
   "metadata": {
    "colab": {
     "base_uri": "https://localhost:8080/",
     "height": 52
    },
    "id": "3c2D0Zd4kK6j",
    "outputId": "fc89cfec-ed04-4ab7-bbaf-90392aeef91f"
   },
   "outputs": [
    {
     "name": "stdout",
     "output_type": "stream",
     "text": [
      "directory already exists\n"
     ]
    },
    {
     "data": {
      "application/vnd.google.colaboratory.intrinsic": {
       "type": "string"
      },
      "text/plain": [
       "'gdrive/My Drive/Colab Notebooks/NanoDev Speakers/'"
      ]
     },
     "execution_count": 10,
     "metadata": {
      "tags": []
     },
     "output_type": "execute_result"
    }
   ],
   "source": [
    "\"\"\" certi_template -> the png or jpg certificate template \"\"\"\n",
    "certi_template = certi_temp_path + 'coa_nanodev20.jpg'\n",
    "\n",
    "\"\"\" certi_output_dir -> the directory where you want to have your certificates generated \"\"\"\n",
    "dirName = 'NanoDev Speakers'\n",
    "if not os.path.exists(path + '/' + dirName):\n",
    "        os.mkdir(path + '/' + dirName)\n",
    "        print('directory made successfully')\n",
    "else:\n",
    "    print('directory already exists')\n",
    "\n",
    "certi_output_dir = path + '/' + dirName + '/'\n",
    "certi_output_dir"
   ]
  },
  {
   "cell_type": "markdown",
   "metadata": {
    "id": "6_DywGnJkK6m"
   },
   "source": [
    "### Main function to write text on the certificate"
   ]
  },
  {
   "cell_type": "code",
   "execution_count": null,
   "metadata": {
    "id": "WvdaO6rKkK6n"
   },
   "outputs": [],
   "source": [
    "\"\"\" Set these parameters for your certificate template \n",
    "    Generate single certificate and try out these parameters accordingly\n",
    "\"\"\"\n",
    "font_size = 2\n",
    "font_color = (0,0,0)  # RGB channel -> currently set to black\n",
    "x_coordinate = 0\n",
    "y_coordinate = 75\n",
    "\n",
    "font_size_org = 2\n",
    "x_coordinate_org = 5\n",
    "y_coordinate_org = -20\n",
    "\n",
    "font_size_certi = 1.5\n",
    "x_coordinate_certi = -325\n",
    "y_coordinate_certi = 405"
   ]
  },
  {
   "cell_type": "code",
   "execution_count": null,
   "metadata": {
    "id": "fsBoiza3kK6p"
   },
   "outputs": [],
   "source": [
    "def make_certificate(names, certi_template, certi_output_dir):\n",
    "    count = 0\n",
    "    for i in range(len(names)):\n",
    "        name = names[i]\n",
    "        org = organization[i]\n",
    "        certi_no = str(certi_number[i])\n",
    "\n",
    "        if (len(org)) > 32:\n",
    "            font_size_org = 1.25\n",
    "        else:\n",
    "            font_size_org = 2\n",
    "\n",
    "        if len(org) > 70:\n",
    "            print(name, org)\n",
    "            org = ''    \n",
    "\n",
    "        count += 1\n",
    "        certi = cv2.imread(certi_template)\n",
    "        font = cv2.FONT_HERSHEY_PLAIN\n",
    "\n",
    "        # text 1\n",
    "        textsize = cv2.getTextSize(name, font, font_size, 2)[0]\n",
    "        text_x = (certi.shape[1] - textsize[0]) / 2 + x_coordinate\n",
    "        text_y = (certi.shape[0] + textsize[1]) / 2 - y_coordinate\n",
    "        text_x = int(text_x)\n",
    "        text_y = int(text_y)\n",
    "\n",
    "\n",
    "        # text 2\n",
    "        textsize_org = cv2.getTextSize(org, font, font_size_org, 2)[0]\n",
    "        text_x_org = (certi.shape[1] - textsize_org[0]) / 2 + x_coordinate_org\n",
    "        text_y_org = (certi.shape[0] + textsize_org[1]) / 2 - y_coordinate_org\n",
    "        text_x_org = int(text_x_org)\n",
    "        text_y_org = int(text_y_org)\n",
    "\n",
    "        # text 3\n",
    "        textsize_certi = cv2.getTextSize(certi_no, font, font_size_certi, 2)[0]\n",
    "        text_x_certi = (certi.shape[1] - textsize_certi[0]) / 2 + x_coordinate_certi\n",
    "        text_y_certi = (certi.shape[0] + textsize_certi[1]) / 2 - y_coordinate_certi\n",
    "        text_x_certi = int(text_x_certi)\n",
    "        text_y_certi = int(text_y_certi)\n",
    "\n",
    "        cv2.putText(certi, name, (text_x, text_y ), font, font_size, font_color, 2) # last for thickness\n",
    "        cv2.putText(certi, org, (text_x_org, text_y_org ), font, font_size_org, font_color, 2) # last for thickness\n",
    "        cv2.putText(certi, certi_no, (text_x_certi, text_y_certi ), font, font_size_certi, font_color, 2) # last for thickness\n",
    "\n",
    "        certi_path = certi_output_dir + name +  '_' + certi_no + '.png'\n",
    "        cv2.imwrite(certi_path,certi)\n",
    "        print(count, end = ' ')\n",
    "        print(' Writing certi for ' + name +  '_' + certi_no + ' to ' + certi_path)"
   ]
  },
  {
   "cell_type": "code",
   "execution_count": null,
   "metadata": {
    "colab": {
     "base_uri": "https://localhost:8080/",
     "height": 319
    },
    "id": "juJh0K7zkK6r",
    "outputId": "d3ecd07d-8eff-420b-f6ef-bf6833f633b5"
   },
   "outputs": [
    {
     "name": "stdout",
     "output_type": "stream",
     "text": [
      "1  Writing certi for H. S. JATANA_20313 to gdrive/My Drive/Colab Notebooks/NanoDev Speakers pdf Certificates/H. S. JATANA_20313.png\n",
      "2  Writing certi for YOGESH CHAUHAN_20314 to gdrive/My Drive/Colab Notebooks/NanoDev Speakers pdf Certificates/YOGESH CHAUHAN_20314.png\n",
      "3  Writing certi for D. S. RAWAL_20315 to gdrive/My Drive/Colab Notebooks/NanoDev Speakers pdf Certificates/D. S. RAWAL_20315.png\n",
      "4  Writing certi for AMIT SINGH_20316 to gdrive/My Drive/Colab Notebooks/NanoDev Speakers pdf Certificates/AMIT SINGH_20316.png\n",
      "5  Writing certi for SANTANU MAHAPTRA_20317 to gdrive/My Drive/Colab Notebooks/NanoDev Speakers pdf Certificates/SANTANU MAHAPTRA_20317.png\n",
      "6  Writing certi for JAWAR SINGH_20318 to gdrive/My Drive/Colab Notebooks/NanoDev Speakers pdf Certificates/JAWAR SINGH_20318.png\n",
      "7  Writing certi for AYAN KARMAKAR_20319 to gdrive/My Drive/Colab Notebooks/NanoDev Speakers pdf Certificates/AYAN KARMAKAR_20319.png\n",
      "8  Writing certi for ARUN ASHOK_20320 to gdrive/My Drive/Colab Notebooks/NanoDev Speakers pdf Certificates/ARUN ASHOK_20320.png\n",
      "SAMARESH DAS GROUP IV SEMICONDUCTORS AND ITS HETERO-STRUCTURE WITH LAYERED TRANSITION METAL DICHALCOGENIDE FOR PHOTONIC DEVICE APPLICATIONS\n",
      "9  Writing certi for SAMARESH DAS_20321 to gdrive/My Drive/Colab Notebooks/NanoDev Speakers pdf Certificates/SAMARESH DAS_20321.png\n",
      "10  Writing certi for GAURAV JAYASWAL_20322 to gdrive/My Drive/Colab Notebooks/NanoDev Speakers pdf Certificates/GAURAV JAYASWAL_20322.png\n",
      "11  Writing certi for DIPANKAR SAHA_20323 to gdrive/My Drive/Colab Notebooks/NanoDev Speakers pdf Certificates/DIPANKAR SAHA_20323.png\n",
      "12  Writing certi for MEENA MISHRA_20324 to gdrive/My Drive/Colab Notebooks/NanoDev Speakers pdf Certificates/MEENA MISHRA_20324.png\n",
      "SUMAYA S GUPTA COMPOUND SEMICONDUCTOR TECHNOLOGY FOR INFRARED PHOTO-DETECTION AND IMAGING APPLICATIONS\n",
      "13  Writing certi for SUMAYA S GUPTA_20325 to gdrive/My Drive/Colab Notebooks/NanoDev Speakers pdf Certificates/SUMAYA S GUPTA_20325.png\n",
      "14  Writing certi for SATINDRA K SHARMA_20326 to gdrive/My Drive/Colab Notebooks/NanoDev Speakers pdf Certificates/SATINDRA K SHARMA_20326.png\n",
      "15  Writing certi for BRAJESH KAUSHIK_20327 to gdrive/My Drive/Colab Notebooks/NanoDev Speakers pdf Certificates/BRAJESH KAUSHIK_20327.png\n",
      "16  Writing certi for MANOJ KHANDPAL_20328 to gdrive/My Drive/Colab Notebooks/NanoDev Speakers pdf Certificates/MANOJ KHANDPAL_20328.png\n"
     ]
    }
   ],
   "source": [
    "\"\"\" Make the funtion call \"\"\"\n",
    "make_certificate(names, certi_template, certi_output_dir)"
   ]
  },
  {
   "cell_type": "code",
   "execution_count": null,
   "metadata": {
    "id": "E-662Lq3wQVZ"
   },
   "outputs": [],
   "source": [
    "# path2 = 'gdrive/My Drive/Colab Notebooks/NanoDev Speakers/'\n",
    "# count = 0\n",
    "# for infile in glob.glob(os.path.join(certi_data_path + 'participant_left_pics/' + '*.*')):\n",
    "#     count += 1\n",
    "#     certi_no = infile.split('/')[-1].split('.')[0]\n",
    "#     name = certificate_text[certificate_text['Certificate no.'] == int(certi_no)]['Full Name'].values[0]\n",
    "#     name = name.upper()\n",
    "#     img = Image.open(infile)\n",
    "#     img = img.resize((170, 170))\n",
    "#     certi_path = path2 + name + '_' + certi_no + '.png'\n",
    "#     certi = Image.open(certi_path)\n",
    "#     certi.paste(img, (1025,210))\n",
    "#     certi.save(certi_path)\n",
    "#     print(count, end = ' ')\n",
    "#     print(' Writing certi with image for ' + name +  '_' + certi_no + ' to ' + certi_path)"
   ]
  },
  {
   "cell_type": "code",
   "execution_count": null,
   "metadata": {
    "colab": {
     "base_uri": "https://localhost:8080/",
     "height": 52
    },
    "id": "xi-hwvoJ-kGo",
    "outputId": "0d5e5a19-5074-4ca2-dd05-c8f6ac814027"
   },
   "outputs": [
    {
     "name": "stdout",
     "output_type": "stream",
     "text": [
      "directory already exists\n"
     ]
    },
    {
     "data": {
      "application/vnd.google.colaboratory.intrinsic": {
       "type": "string"
      },
      "text/plain": [
       "'gdrive/My Drive/Colab Notebooks/NanoDev Speakers pdf Certificates/'"
      ]
     },
     "execution_count": 23,
     "metadata": {
      "tags": []
     },
     "output_type": "execute_result"
    }
   ],
   "source": [
    "\"\"\" certi_output_dir -> the directory where you want to have your certificates generated \"\"\"\n",
    "dirName = 'NanoDev Speakers pdf Certificates'\n",
    "if not os.path.exists(path + '/' + dirName):\n",
    "        os.mkdir(path + '/' + dirName)\n",
    "        print('directory made successfully')\n",
    "else:\n",
    "    print('directory already exists')\n",
    "\n",
    "certi_output_dir = path + '/' + dirName + '/'\n",
    "certi_output_dir"
   ]
  },
  {
   "cell_type": "code",
   "execution_count": null,
   "metadata": {
    "colab": {
     "base_uri": "https://localhost:8080/",
     "height": 286
    },
    "id": "oBfgDL6UBUYl",
    "outputId": "a50964a6-0acf-4f98-8497-7882c92f321b"
   },
   "outputs": [
    {
     "name": "stdout",
     "output_type": "stream",
     "text": [
      "1 PDF written for AMIT SINGH_20316at gdrive/My Drive/Colab Notebooks/NanoDev Speakers pdf Certificates/AMIT SINGH_20316.pdf\n",
      "2 PDF written for AYAN KARMAKAR_20319at gdrive/My Drive/Colab Notebooks/NanoDev Speakers pdf Certificates/AYAN KARMAKAR_20319.pdf\n",
      "3 PDF written for D. S. RAWAL_20315at gdrive/My Drive/Colab Notebooks/NanoDev Speakers pdf Certificates/D. S. RAWAL_20315.pdf\n",
      "4 PDF written for SANTANU MAHAPTRA_20317at gdrive/My Drive/Colab Notebooks/NanoDev Speakers pdf Certificates/SANTANU MAHAPTRA_20317.pdf\n",
      "5 PDF written for JAWAR SINGH_20318at gdrive/My Drive/Colab Notebooks/NanoDev Speakers pdf Certificates/JAWAR SINGH_20318.pdf\n",
      "6 PDF written for YOGESH CHAUHAN_20314at gdrive/My Drive/Colab Notebooks/NanoDev Speakers pdf Certificates/YOGESH CHAUHAN_20314.pdf\n",
      "7 PDF written for ARUN ASHOK_20320at gdrive/My Drive/Colab Notebooks/NanoDev Speakers pdf Certificates/ARUN ASHOK_20320.pdf\n",
      "8 PDF written for H. S. JATANA_20313at gdrive/My Drive/Colab Notebooks/NanoDev Speakers pdf Certificates/H. S. JATANA_20313.pdf\n",
      "9 PDF written for SAMARESH DAS_20321at gdrive/My Drive/Colab Notebooks/NanoDev Speakers pdf Certificates/SAMARESH DAS_20321.pdf\n",
      "10 PDF written for GAURAV JAYASWAL_20322at gdrive/My Drive/Colab Notebooks/NanoDev Speakers pdf Certificates/GAURAV JAYASWAL_20322.pdf\n",
      "11 PDF written for DIPANKAR SAHA_20323at gdrive/My Drive/Colab Notebooks/NanoDev Speakers pdf Certificates/DIPANKAR SAHA_20323.pdf\n",
      "12 PDF written for SATINDRA K SHARMA_20326at gdrive/My Drive/Colab Notebooks/NanoDev Speakers pdf Certificates/SATINDRA K SHARMA_20326.pdf\n",
      "13 PDF written for MEENA MISHRA_20324at gdrive/My Drive/Colab Notebooks/NanoDev Speakers pdf Certificates/MEENA MISHRA_20324.pdf\n",
      "14 PDF written for BRAJESH KAUSHIK_20327at gdrive/My Drive/Colab Notebooks/NanoDev Speakers pdf Certificates/BRAJESH KAUSHIK_20327.pdf\n",
      "15 PDF written for SUMAYA S GUPTA_20325at gdrive/My Drive/Colab Notebooks/NanoDev Speakers pdf Certificates/SUMAYA S GUPTA_20325.pdf\n",
      "16 PDF written for MANOJ KHANDPAL_20328at gdrive/My Drive/Colab Notebooks/NanoDev Speakers pdf Certificates/MANOJ KHANDPAL_20328.pdf\n"
     ]
    }
   ],
   "source": [
    "path2 = 'gdrive/My Drive/Colab Notebooks/NanoDev Speakers/'\n",
    "pdf_dir = certi_output_dir\n",
    "count = 0\n",
    "for infile in glob.glob(os.path.join(path2 + '*.png')):\n",
    "    count += 1\n",
    "    name = infile.split('/')[-1][:-4]\n",
    "    img = Image.open(infile)\n",
    "    pdf_path = pdf_dir + name + '.pdf'\n",
    "\n",
    "    pdf_bytes = img2pdf.convert(img.filename)\n",
    "    file = open(pdf_path, \"wb\") \n",
    "    file.write(pdf_bytes) \n",
    "  \n",
    "    img.close() \n",
    "    file.close() \n",
    "    print(count, end = ' ')\n",
    "    print('PDF written for ' + name + 'at ' + pdf_path)"
   ]
  },
  {
   "cell_type": "code",
   "execution_count": null,
   "metadata": {
    "id": "6qJJJCDNXptx"
   },
   "outputs": [],
   "source": []
  }
 ],
 "metadata": {
  "colab": {
   "collapsed_sections": [],
   "name": "Certificate Generator .ipynb",
   "provenance": []
  },
  "kernelspec": {
   "display_name": "Python 3",
   "language": "python",
   "name": "python3"
  },
  "language_info": {
   "codemirror_mode": {
    "name": "ipython",
    "version": 3
   },
   "file_extension": ".py",
   "mimetype": "text/x-python",
   "name": "python",
   "nbconvert_exporter": "python",
   "pygments_lexer": "ipython3",
   "version": "3.9.1"
  }
 },
 "nbformat": 4,
 "nbformat_minor": 1
}
