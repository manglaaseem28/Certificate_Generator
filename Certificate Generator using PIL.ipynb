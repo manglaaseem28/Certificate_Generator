{
 "cells": [
  {
   "cell_type": "markdown",
   "metadata": {},
   "source": [
    "# Automatic Certificate Generator in Python - 10 Lines Code"
   ]
  },
  {
   "cell_type": "code",
   "execution_count": 2,
   "metadata": {},
   "outputs": [],
   "source": [
    "# !pip install PI\n",
    "# !pip install pandas\n",
    "# !pip install pillow"
   ]
  },
  {
   "cell_type": "code",
   "execution_count": null,
   "metadata": {},
   "outputs": [],
   "source": [
    "import pandas as pd\n",
    "from PIL import Image, ImageDraw, ImageFont\n",
    "\n",
    "data = pd.read_excel ('file') \n",
    "name_list = data[\"Name\"].tolist()\n",
    "im = Image.open('template path')\n",
    "for i in name_list:\n",
    "    d = ImageDraw.Draw(im)\n",
    "    location = (100, 398)\n",
    "    text_color = (0, 137, 209)\n",
    "    font = ImageFont.truetype(\"arial.ttf\", 120)\n",
    "    d.text(location, i, fill = text_color, font = font)\n",
    "    im.save(\"certificate_\" + i + \".pdf\")"
   ]
  },
  {
   "cell_type": "code",
   "execution_count": null,
   "metadata": {},
   "outputs": [],
   "source": []
  }
 ],
 "metadata": {
  "kernelspec": {
   "display_name": "Python 3",
   "language": "python",
   "name": "python3"
  },
  "language_info": {
   "codemirror_mode": {
    "name": "ipython",
    "version": 3
   },
   "file_extension": ".py",
   "mimetype": "text/x-python",
   "name": "python",
   "nbconvert_exporter": "python",
   "pygments_lexer": "ipython3",
   "version": "3.9.1"
  }
 },
 "nbformat": 4,
 "nbformat_minor": 4
}
