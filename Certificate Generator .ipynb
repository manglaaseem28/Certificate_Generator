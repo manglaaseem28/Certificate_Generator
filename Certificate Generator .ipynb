{
 "cells": [
  {
   "cell_type": "markdown",
   "metadata": {},
   "source": [
    "### Import Libraries"
   ]
  },
  {
   "cell_type": "code",
   "execution_count": null,
   "metadata": {},
   "outputs": [],
   "source": [
    "\"\"\" Uncomment and run this cell if you donot have these libraries \"\"\"\n",
    "\n",
    "# !pip install cv2\n",
    "# !pip install pandas\n",
    "# !pip install numpy"
   ]
  },
  {
   "cell_type": "code",
   "execution_count": null,
   "metadata": {},
   "outputs": [],
   "source": [
    "import cv2\n",
    "import pandas as pd\n",
    "import numpy as np"
   ]
  },
  {
   "cell_type": "markdown",
   "metadata": {},
   "source": [
    "### Read the Names/Content to be written on the certificate\n",
    "* The names should be in an excel or csv file for this code\n",
    "* If you have the data in any other file format, please use the required file reading syntax"
   ]
  },
  {
   "cell_type": "code",
   "execution_count": null,
   "metadata": {},
   "outputs": [],
   "source": [
    "\"\"\" Fill in the file path where you have the text to be written on the certificate \"\"\"\n",
    "text_file_path = ''\n",
    "certificate_text = pd.read_excel(text_file_path)\n",
    "\n",
    "\"\"\" Use this if you have csv file \"\"\"\n",
    "certificate_text = pd.read_csv(text_file_path)"
   ]
  },
  {
   "cell_type": "markdown",
   "metadata": {},
   "source": [
    "* Find the appropriate column in the certificate_text dataframe and read the data out of it\n",
    "\n",
    "Here I present the examples of how to do that.\n",
    "\n",
    "1. If you have names in a single columns say Participants, then, <br>\n",
    "    names = np.array(certificate_text['Participants'].dropna()) <br>\n",
    "    \n",
    "    \n",
    "2. If you have names that are spread over different columns, then, <br>\n",
    "    names_1 = np.array(certificate_text['Name'].dropna()).tolist() <br>\n",
    "    names_2 = np.array(certificate_text['Name1'].dropna()).tolist() <br>\n",
    "    names_3 = np.array(certificate_text['Name2'].dropna()).tolist() <br>\n",
    "    names = names_1 + names_2 + names_3 <br>\n",
    "    \n",
    "    \n",
    "* Do this same for every text column you need on the certificate"
   ]
  },
  {
   "cell_type": "code",
   "execution_count": null,
   "metadata": {},
   "outputs": [],
   "source": [
    "\"\"\" Change this according to the data you have \"\"\"\n",
    "names = np.array(certificate_text['Participants'].dropna())\n",
    "len(names)"
   ]
  },
  {
   "cell_type": "code",
   "execution_count": null,
   "metadata": {
    "scrolled": true
   },
   "outputs": [],
   "source": [
    "\"\"\" Convert all names to Uppercase \"\"\"\n",
    "names = [i.upper() for i in names]"
   ]
  },
  {
   "cell_type": "code",
   "execution_count": null,
   "metadata": {},
   "outputs": [],
   "source": [
    "\"\"\" certi_template -> the png or jpg certificate template \"\"\"\n",
    "certi_template = ''\n",
    "\n",
    "\"\"\" certi_output_dir -> the directory where you want to have your certificates generated \"\"\"\n",
    "certi_output_dir = ''"
   ]
  },
  {
   "cell_type": "markdown",
   "metadata": {},
   "source": [
    "### Main function to write text on the certificate"
   ]
  },
  {
   "cell_type": "code",
   "execution_count": null,
   "metadata": {},
   "outputs": [],
   "source": [
    "\"\"\" Set these parameters for your certificate template \n",
    "    Generate single certificate and try out these parameters accordingly\n",
    "\"\"\"\n",
    "font_size = 8\n",
    "font_color = (0,0,0)  # RGB channel -> currently set to black\n",
    "x_coordinate = 0\n",
    "y_coordinate = 0"
   ]
  },
  {
   "cell_type": "code",
   "execution_count": null,
   "metadata": {},
   "outputs": [],
   "source": [
    "def make_certificate(names, certi_template, certi_output_dir):\n",
    "    count = 0\n",
    "    for name in names:\n",
    "        count += 1\n",
    "        certi = cv2.imread(certi_template)\n",
    "        font = cv2.FONT_HERSHEY_PLAIN\n",
    "        textsize = cv2.getTextSize(name, font, font_size, 2)[0]\n",
    "        text_x = (certi.shape[1] - textsize[0]) / 2 + x_coordinate\n",
    "        text_y = (certi.shape[0] + textsize[1]) / 2 - y_coordinate\n",
    "        text_x = int(text_x)\n",
    "        text_y = int(text_y)\n",
    "        cv2.putText(certi, name, (text_x, text_y ), font, font_size, font_color, 6) # last for thickness\n",
    "        certi_path = certi_output_dir + name + '.png'\n",
    "        cv2.imwrite(certi_path,certi)\n",
    "        print(count, end = ' ')\n",
    "        print(' Writing certi for ' + name + ' to ' + certi_path)"
   ]
  },
  {
   "cell_type": "code",
   "execution_count": null,
   "metadata": {},
   "outputs": [],
   "source": [
    "\"\"\" Make the funtion call \"\"\"\n",
    "make_certificate(names, certi_template, certi_output_dir)"
   ]
  }
 ],
 "metadata": {
  "kernelspec": {
   "display_name": "Python 3",
   "language": "python",
   "name": "python3"
  },
  "language_info": {
   "codemirror_mode": {
    "name": "ipython",
    "version": 3
   },
   "file_extension": ".py",
   "mimetype": "text/x-python",
   "name": "python",
   "nbconvert_exporter": "python",
   "pygments_lexer": "ipython3",
   "version": "3.6.8"
  }
 },
 "nbformat": 4,
 "nbformat_minor": 2
}
